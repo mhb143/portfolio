{
 "cells": [
  {
   "cell_type": "markdown",
   "metadata": {
    "deletable": false,
    "editable": false,
    "nbgrader": {
     "grade": false,
     "locked": true,
     "solution": false
    }
   },
   "source": [
    "# Homework 3"
   ]
  },
  {
   "cell_type": "code",
   "execution_count": 1,
   "metadata": {
    "deletable": false,
    "editable": false,
    "nbgrader": {
     "grade": false,
     "locked": true,
     "solution": false
    }
   },
   "outputs": [
    {
     "name": "stderr",
     "output_type": "stream",
     "text": [
      "Matplotlib is building the font cache; this may take a moment.\n"
     ]
    }
   ],
   "source": [
    "# Run this cell so that the necessary packages are imported. \n",
    "\n",
    "import pandas as pd\n",
    "import matplotlib.pyplot as plt \n",
    "import numpy as np\n",
    "import math"
   ]
  },
  {
   "cell_type": "markdown",
   "metadata": {
    "deletable": false,
    "editable": false,
    "nbgrader": {
     "grade": false,
     "locked": true,
     "solution": false
    }
   },
   "source": [
    "## Q0: Setup (0 points)"
   ]
  },
  {
   "cell_type": "markdown",
   "metadata": {
    "deletable": false,
    "editable": false,
    "nbgrader": {
     "grade": false,
     "locked": true,
     "solution": false
    }
   },
   "source": [
    "Read in the following datasets from csv files to use in question below: \n",
    "(i) 'tree_features.csv', has header row.\n",
    "(ii) 'SAT_Participation_CT.csv', has header row.\n",
    "(iii) 'bush-gore-results-fl_demo.csv', has header row.\n"
   ]
  },
  {
   "cell_type": "code",
   "execution_count": 3,
   "metadata": {},
   "outputs": [],
   "source": [
    "data1=pd.read_csv('tree_features.csv')\n",
    "data2=pd.read_csv('SAT_Participation_CT.csv')\n",
    "data3=pd.read_csv('bush-gore-results-fl_demo.csv')"
   ]
  },
  {
   "cell_type": "markdown",
   "metadata": {
    "deletable": false,
    "editable": false,
    "nbgrader": {
     "grade": false,
     "locked": true,
     "solution": false
    }
   },
   "source": [
    "## Q1: Histograms (2 points)"
   ]
  },
  {
   "cell_type": "markdown",
   "metadata": {
    "deletable": false,
    "editable": false,
    "nbgrader": {
     "grade": false,
     "locked": true,
     "solution": false
    }
   },
   "source": [
    "(a) Consider the 'tree_features.csv' data. Create a histogram plot for the column 'vals'. "
   ]
  },
  {
   "cell_type": "code",
   "execution_count": null,
   "metadata": {
    "scrolled": true
   },
   "outputs": [],
   "source": [
    "fig, ax = plt.subplots()\n",
    "plt.hist(data1['vals'])\n",
    "ax.set_xlabel('vals')\n",
    "ax.set_title('Tree Feature Vals')\n"
   ]
  },
  {
   "cell_type": "markdown",
   "metadata": {
    "deletable": false,
    "editable": false,
    "nbgrader": {
     "grade": false,
     "locked": true,
     "solution": false
    }
   },
   "source": [
    "(b) Consider the 'tree_features.csv' data. Create a plot that contains two histograms in the same plot, one for the column 'vals' and one for the column 'LFNCC'. Color each histogram a different color to differentiate, and add a legend to the plot to show the mapping from colors to column names."
   ]
  },
  {
   "cell_type": "code",
   "execution_count": 8,
   "metadata": {},
   "outputs": [
    {
     "data": {
      "text/plain": [
       "<matplotlib.legend.Legend at 0x7f9924e217f0>"
      ]
     },
     "execution_count": 8,
     "metadata": {},
     "output_type": "execute_result"
    },
    {
     "data": {
      "image/png": "[encoded data removed]",
      "text/plain": [
       "<Figure size 432x288 with 1 Axes>"
      ]
     },
     "metadata": {},
     "output_type": "display_data"
    }
   ],
   "source": [
    "fig, ax = plt.subplots()\n",
    "plt.hist(data1['vals'])\n",
    "plt.hist(data1['LFNCC'])\n",
    "plt.style.use('ggplot')\n",
    "plt.legend(['vals','LFNCC'])"
   ]
  },
  {
   "cell_type": "markdown",
   "metadata": {
    "deletable": false,
    "editable": false,
    "nbgrader": {
     "grade": false,
     "locked": true,
     "solution": false
    }
   },
   "source": [
    "## Q2: Scatter plot (3 points)"
   ]
  },
  {
   "cell_type": "markdown",
   "metadata": {},
   "source": [
    "(a) Consider the 'tree_features.csv' data. Create a scatter plot showing the relationship between the stem biomass (column 'STBM') and the leaf biomass (column 'LFBM'). Label the axes with the respective column names."
   ]
  },
  {
   "cell_type": "code",
   "execution_count": 9,
   "metadata": {},
   "outputs": [
    {
     "data": {
      "text/plain": [
       "Text(0,0.5,'STBM')"
      ]
     },
     "execution_count": 9,
     "metadata": {},
     "output_type": "execute_result"
    },
    {
     "data": {
      "image/png": "[encoded data removed]",
      "text/plain": [
       "<Figure size 432x288 with 1 Axes>"
      ]
     },
     "metadata": {},
     "output_type": "display_data"
    }
   ],
   "source": [
    "fig, ax = plt.subplots()\n",
    "ax.scatter(data1['LFBM'],data1['STBM'])\n",
    "ax.set_xlabel('LFBM')\n",
    "ax.set_ylabel('STBM')"
   ]
  },
  {
   "cell_type": "markdown",
   "metadata": {
    "deletable": false,
    "editable": false,
    "nbgrader": {
     "grade": false,
     "locked": true,
     "solution": false
    }
   },
   "source": [
    "(b) Consider the 'tree_features.csv' data. Create a scatter plot showing the relationship between column 'STBM' and column 'C'. Label the axes with the respective column names."
   ]
  },
  {
   "cell_type": "code",
   "execution_count": 10,
   "metadata": {},
   "outputs": [
    {
     "data": {
      "text/plain": [
       "Text(0,0.5,'STBM')"
      ]
     },
     "execution_count": 10,
     "metadata": {},
     "output_type": "execute_result"
    },
    {
     "data": {
      "image/png": "[encoded data removed]",
      "text/plain": [
       "<Figure size 432x288 with 1 Axes>"
      ]
     },
     "metadata": {},
     "output_type": "display_data"
    }
   ],
   "source": [
    "fig, ax = plt.subplots()\n",
    "ax.scatter(data1['C'],data1['STBM'])\n",
    "ax.set_xlabel('C')\n",
    "ax.set_ylabel('STBM')\n"
   ]
  },
  {
   "cell_type": "markdown",
   "metadata": {},
   "source": [
    "(c) Consider the 'tree_features.csv' data again. Create a new feature that corresponds to the value of 'LFBM' multipled by the value of 'C'. Plot the column 'STBM' against this new feature.  Label the axes with the appropriately."
   ]
  },
  {
   "cell_type": "code",
   "execution_count": 11,
   "metadata": {},
   "outputs": [
    {
     "data": {
      "text/plain": [
       "Text(0,0.5,'STBM')"
      ]
     },
     "execution_count": 11,
     "metadata": {},
     "output_type": "execute_result"
    },
    {
     "data": {
      "image/png": "[encoded data removed]",
      "text/plain": [
       "<Figure size 432x288 with 1 Axes>"
      ]
     },
     "metadata": {},
     "output_type": "display_data"
    }
   ],
   "source": [
    "x=data1['LFBM']*data1['C']\n",
    "data1['x']=x\n",
    "\n",
    "fig, ax = plt.subplots()\n",
    "ax.scatter(data1['x'],data1['STBM'])\n",
    "ax.set_xlabel('x')\n",
    "ax.set_ylabel('STBM')\n",
    "\n"
   ]
  },
  {
   "cell_type": "markdown",
   "metadata": {
    "deletable": false,
    "editable": false,
    "nbgrader": {
     "grade": false,
     "locked": true,
     "solution": false
    }
   },
   "source": [
    "## Q3: Density plot (2 points)"
   ]
  },
  {
   "cell_type": "markdown",
   "metadata": {
    "deletable": false,
    "editable": false,
    "nbgrader": {
     "grade": false,
     "locked": true,
     "solution": false
    }
   },
   "source": [
    "(a) Consider the 'SAT_Participation_CT.csv' data. Create a density plot for the column 'Test-takers: 2012' using the density() function in pandas. Label the x axis with the column name."
   ]
  },
  {
   "cell_type": "code",
   "execution_count": 12,
   "metadata": {},
   "outputs": [
    {
     "data": {
      "text/plain": [
       "Text(0.5,0,'Test-takers: 2012')"
      ]
     },
     "execution_count": 12,
     "metadata": {},
     "output_type": "execute_result"
    },
    {
     "data": {
      "image/png": "[encoded data removed]",
      "text/plain": [
       "<Figure size 432x288 with 1 Axes>"
      ]
     },
     "metadata": {},
     "output_type": "display_data"
    }
   ],
   "source": [
    "fig, ax = plt.subplots()\n",
    "data2['Test-takers: 2012'].plot.kde()\n",
    "ax.set_xlabel('Test-takers: 2012')"
   ]
  },
  {
   "cell_type": "markdown",
   "metadata": {
    "deletable": false,
    "editable": false,
    "nbgrader": {
     "grade": false,
     "locked": true,
     "solution": false
    }
   },
   "source": [
    "(b) Consider the 'SAT_Participation_CT.csv' data. Create a plot with two density distributions displayed in the same plot. Make sure that the full density for each variable is visible in the plot.\n",
    "i. Plot the density of the values in column 'Test-takers: 2012'.\n",
    "ii. Overlay the density of the values in column 'Test-takers: Change'.\n",
    "iii. Add a legend with the column names to differentiate the two lines. "
   ]
  },
  {
   "cell_type": "code",
   "execution_count": 13,
   "metadata": {},
   "outputs": [
    {
     "data": {
      "text/plain": [
       "<matplotlib.legend.Legend at 0x7f990673cb38>"
      ]
     },
     "execution_count": 13,
     "metadata": {},
     "output_type": "execute_result"
    },
    {
     "data": {
      "image/png": "[encoded data removed]",
      "text/plain": [
       "<Figure size 432x288 with 1 Axes>"
      ]
     },
     "metadata": {},
     "output_type": "display_data"
    }
   ],
   "source": [
    "fig, ax = plt.subplots()\n",
    "data2['Test-takers: 2012'].plot.kde()\n",
    "data2['Test-takers: Change'].plot.kde()\n",
    "plt.legend(['Test-takers: 2012','Test-takers: Change'])"
   ]
  },
  {
   "cell_type": "markdown",
   "metadata": {
    "deletable": false,
    "editable": false,
    "nbgrader": {
     "grade": false,
     "locked": true,
     "solution": false
    }
   },
   "source": [
    "## Q4: Bar Plots (6 points)"
   ]
  },
  {
   "cell_type": "markdown",
   "metadata": {},
   "source": [
    "(a) Consider the 'bush-gore-results-fl_demo.csv' data. Write a function that reads in data from the specified file and a column name indicating a particular candidate (e.g., 'buch'). Return the average number of votes per county that candidate obtained. You can assume that each row corresponds to a unique county."
   ]
  },
  {
   "cell_type": "code",
   "execution_count": 14,
   "metadata": {},
   "outputs": [
    {
     "data": {
      "text/plain": [
       "360.67164179104475"
      ]
     },
     "execution_count": 14,
     "metadata": {},
     "output_type": "execute_result"
    }
   ],
   "source": [
    "# averageVotes(filename, column) takes as input a csv file name and the column name \n",
    "# of a candidate as a string, and returns the average number of votes per county \n",
    "# obtained by the specified candidate. \n",
    "\n",
    "def averageCandidateVotes(filename, column):\n",
    "    data=pd.read_csv(filename)\n",
    "    return data[column].mean()\n",
    "    \n",
    "    \n",
    "# For example,\n",
    "averageCandidateVotes('bush-gore-results-fl_demo.csv', 'buch')\n",
    "#should return -> 360.67... "
   ]
  },
  {
   "cell_type": "code",
   "execution_count": 15,
   "metadata": {
    "collapsed": true,
    "deletable": false,
    "editable": false,
    "nbgrader": {
     "grade": true,
     "grade_id": "Q4a: avgCandidateVotes1",
     "locked": true,
     "points": "1",
     "solution": false
    }
   },
   "outputs": [],
   "source": [
    "###\n",
    "### AUTOGRADER TEST - DO NOT REMOVE\n",
    "###\n"
   ]
  },
  {
   "cell_type": "code",
   "execution_count": 16,
   "metadata": {
    "collapsed": true,
    "deletable": false,
    "editable": false,
    "nbgrader": {
     "grade": true,
     "grade_id": "Q4a: avgCandidateVotes2",
     "locked": true,
     "points": "2",
     "solution": false
    }
   },
   "outputs": [],
   "source": [
    "###\n",
    "### AUTOGRADER TEST - DO NOT REMOVE\n",
    "###\n"
   ]
  },
  {
   "cell_type": "markdown",
   "metadata": {
    "deletable": false,
    "editable": false,
    "nbgrader": {
     "grade": false,
     "locked": true,
     "solution": false
    }
   },
   "source": [
    "(b) Using the above function, find the average votes for each of following candidates: brow, harr, hage, buch, mcre, phil, and moor. Return the results as a list."
   ]
  },
  {
   "cell_type": "code",
   "execution_count": 17,
   "metadata": {},
   "outputs": [
    {
     "data": {
      "text/plain": [
       "[344.7164179104478,\n",
       " 108.32835820895522,\n",
       " 133.92537313432837,\n",
       " 360.67164179104475,\n",
       " 109.22388059701493,\n",
       " 120.41791044776119,\n",
       " 126.91044776119404]"
      ]
     },
     "execution_count": 17,
     "metadata": {},
     "output_type": "execute_result"
    }
   ],
   "source": [
    "# averageVotes(filename) takes as input a csv file name and returns the average \n",
    "# number of votes per county obtained by each candidate in the set: brow, harr, \n",
    "# hage, buch, mcre, phil, and moor.\n",
    "\n",
    "def averageVotes(filename):\n",
    "    data=pd.read_csv(filename)\n",
    "    li=[]\n",
    "    brow=averageCandidateVotes(filename, 'brow')\n",
    "    li.append(brow)\n",
    "    harr=averageCandidateVotes(filename, 'harr')\n",
    "    li.append(harr)\n",
    "    hage=averageCandidateVotes(filename, 'hage')\n",
    "    li.append(hage)\n",
    "    buch=averageCandidateVotes(filename, 'buch')\n",
    "    li.append(buch)\n",
    "    mcre=averageCandidateVotes(filename, 'mcre')\n",
    "    li.append(mcre)\n",
    "    phil=averageCandidateVotes(filename, 'phil')\n",
    "    li.append(phil)\n",
    "    moor=averageCandidateVotes(filename, 'moor')\n",
    "    li.append(moor)\n",
    "    \n",
    "    return li\n",
    "\n",
    "    \n",
    "# For example,\n",
    "averageVotes(\"bush-gore-results-fl_demo.csv\")\n",
    "# returns -> [344.7164179104478, 108.32835820895522, 133.92537313432837,\n",
    "# 360.67164179104475, 109.22388059701493, 120.41791044776119, 126.91044776119404]"
   ]
  },
  {
   "cell_type": "code",
   "execution_count": 14,
   "metadata": {
    "collapsed": true,
    "deletable": false,
    "editable": false,
    "nbgrader": {
     "grade": true,
     "grade_id": "Q4b: avgVotes1",
     "locked": true,
     "points": "1",
     "solution": false
    }
   },
   "outputs": [],
   "source": [
    "###\n",
    "### AUTOGRADER TEST - DO NOT REMOVE\n",
    "###\n"
   ]
  },
  {
   "cell_type": "code",
   "execution_count": 15,
   "metadata": {
    "collapsed": true,
    "deletable": false,
    "editable": false,
    "nbgrader": {
     "grade": true,
     "grade_id": "Q4b: avgVotes2",
     "locked": true,
     "points": "2",
     "solution": false
    }
   },
   "outputs": [],
   "source": [
    "###\n",
    "### AUTOGRADER TEST - DO NOT REMOVE\n",
    "###\n"
   ]
  },
  {
   "cell_type": "markdown",
   "metadata": {
    "deletable": false,
    "editable": false,
    "nbgrader": {
     "grade": false,
     "locked": true,
     "solution": false
    }
   },
   "source": [
    "(c) Now write the code to plot the means of the candidates (brow, harr, hage, buch, mcre, phil, and moor) as a bar plot. Label each bar on the x axis with the appropriate column names. Label the y axis with 'Average Votes'. You can use your above defined functions. "
   ]
  },
  {
   "cell_type": "code",
   "execution_count": 18,
   "metadata": {
    "scrolled": true
   },
   "outputs": [
    {
     "data": {
      "text/plain": [
       "<BarContainer object of 7 artists>"
      ]
     },
     "execution_count": 18,
     "metadata": {},
     "output_type": "execute_result"
    },
    {
     "data": {
      "image/png": "[encoded data removed]",
      "text/plain": [
       "<Figure size 432x288 with 1 Axes>"
      ]
     },
     "metadata": {},
     "output_type": "display_data"
    }
   ],
   "source": [
    "x=averageVotes('bush-gore-results-fl_demo.csv')\n",
    "barlabels = ['brow','harr','hage','buch','mcre','phil','moor']\n",
    "barvals = [x[0],x[1],x[2],x[3],x[4],x[5],x[6]]\n",
    "\n",
    "plt.bar(barlabels, barvals) \n",
    "\n"
   ]
  },
  {
   "cell_type": "markdown",
   "metadata": {
    "deletable": false,
    "editable": false,
    "nbgrader": {
     "grade": false,
     "locked": true,
     "solution": false
    }
   },
   "source": [
    "(d) Write a function that reads in data from the specified file and a column name indicating a particular candidate (e.g., 'buch'). Return the standard error of the votes per county that the candidate obtained. You can assume that each row corresponds to a unique county. Standard Error = Standard Deviation/Sqrt(N), where N is the number of samples (i.e., counties). "
   ]
  },
  {
   "cell_type": "code",
   "execution_count": 19,
   "metadata": {},
   "outputs": [
    {
     "data": {
      "text/plain": [
       "38.43308637665163"
      ]
     },
     "execution_count": 19,
     "metadata": {},
     "output_type": "execute_result"
    }
   ],
   "source": [
    "# stderrCandidateVotes(filename, column)takes as input a csv file name and the column name \n",
    "# of a candidate as a string, and returns the standard error of votes per county \n",
    "# obtained by the specified candidate.\n",
    "\n",
    "# For example,\n",
    "# stderrCandidateVotes(bush-gore-results-fl_demo.csv, brow) -> 38.43308637665163\n",
    "\n",
    "def stderrCandidateVotes(filename, column):\n",
    "    y=data3[column].std()\n",
    "    z=len(data3[column])\n",
    "    x= y/math.sqrt(z)\n",
    "    return x\n",
    "        \n",
    "    \n",
    "# For example,\n",
    "stderrCandidateVotes(\"bush-gore-results-fl_demo.csv\", \"brow\")\n",
    "# Returns -> 38.43...\n"
   ]
  },
  {
   "cell_type": "code",
   "execution_count": 20,
   "metadata": {
    "collapsed": true,
    "deletable": false,
    "editable": false,
    "nbgrader": {
     "grade": true,
     "grade_id": "Q4d:stderrCandidate1",
     "locked": true,
     "points": "1",
     "solution": false
    }
   },
   "outputs": [],
   "source": [
    "###\n",
    "### AUTOGRADER TEST - DO NOT REMOVE\n",
    "###\n"
   ]
  },
  {
   "cell_type": "code",
   "execution_count": 21,
   "metadata": {
    "collapsed": true,
    "deletable": false,
    "editable": false,
    "nbgrader": {
     "grade": true,
     "grade_id": "Q4d:stderrCandidate2",
     "locked": true,
     "points": "2",
     "solution": false
    }
   },
   "outputs": [],
   "source": [
    "###\n",
    "### AUTOGRADER TEST - DO NOT REMOVE\n",
    "###\n"
   ]
  },
  {
   "cell_type": "markdown",
   "metadata": {
    "deletable": false,
    "editable": false,
    "nbgrader": {
     "grade": false,
     "locked": true,
     "solution": false
    }
   },
   "source": [
    "(e) Using the above function, find the standard error for each of following candidates: brow, harr, hage, buch, mcre, phil, and moor. Return the results as a list."
   ]
  },
  {
   "cell_type": "code",
   "execution_count": 22,
   "metadata": {},
   "outputs": [
    {
     "data": {
      "text/plain": [
       "[38.43308637665163,\n",
       " 1.8168501303260554,\n",
       " 8.094431179283863,\n",
       " 54.96699140259839,\n",
       " 4.529007012670127,\n",
       " 3.7528911968605274,\n",
       " 4.5931600841084075]"
      ]
     },
     "execution_count": 22,
     "metadata": {},
     "output_type": "execute_result"
    }
   ],
   "source": [
    "# stderrVotes(filename) takes as input a csv file name and returns the standard \n",
    "# error of votes per county obtained by each candidate in the set: brow, harr, \n",
    "# hage, buch, mcre, phil, and moor.\n",
    "\n",
    "# For example,\n",
    "# stderrVotes(bush-gore-results-fl_demo.csv) -> [38.43308637665163, 1.8168501303260554, 8.094431179283863, \n",
    "# 54.96699140259839, 4.529007012670127, 3.7528911968605274, 4.5931600841084075]\n",
    "\n",
    "def stderrVotes(filename):\n",
    "    li=[]\n",
    "    brow=stderrCandidateVotes(filename, 'brow')\n",
    "    harr=stderrCandidateVotes(filename, 'harr')\n",
    "    hage=stderrCandidateVotes(filename, 'hage')\n",
    "    buch=stderrCandidateVotes(filename, 'buch')\n",
    "    mcre=stderrCandidateVotes(filename, 'mcre')\n",
    "    phil=stderrCandidateVotes(filename, 'phil')\n",
    "    moor=stderrCandidateVotes(filename, 'moor')\n",
    "    li.append(brow)\n",
    "    li.append(harr)\n",
    "    li.append(hage)\n",
    "    li.append(buch)\n",
    "    li.append(mcre)\n",
    "    li.append(phil)\n",
    "    li.append(moor)\n",
    "    \n",
    "    return li\n",
    "\n",
    "stderrVotes(\"bush-gore-results-fl_demo.csv\")"
   ]
  },
  {
   "cell_type": "code",
   "execution_count": 23,
   "metadata": {
    "collapsed": true,
    "deletable": false,
    "editable": false,
    "nbgrader": {
     "grade": true,
     "grade_id": "Q4e:stderrVotes1",
     "locked": true,
     "points": "1",
     "solution": false
    }
   },
   "outputs": [],
   "source": [
    "###\n",
    "### AUTOGRADER TEST - DO NOT REMOVE\n",
    "###\n"
   ]
  },
  {
   "cell_type": "code",
   "execution_count": 24,
   "metadata": {
    "collapsed": true,
    "deletable": false,
    "editable": false,
    "nbgrader": {
     "grade": true,
     "grade_id": "Q4e:stderrVotes2",
     "locked": true,
     "points": "2",
     "solution": false
    }
   },
   "outputs": [],
   "source": [
    "###\n",
    "### AUTOGRADER TEST - DO NOT REMOVE\n",
    "###\n"
   ]
  },
  {
   "cell_type": "markdown",
   "metadata": {
    "collapsed": true,
    "deletable": false,
    "editable": false,
    "nbgrader": {
     "grade": false,
     "locked": true,
     "solution": false
    }
   },
   "source": [
    "(f) Now write the code to create a barplot of the vote means for each of the candidates (brow, harr, hage, buch, mcre, phil, and moor) and include error bars that represent the standard errors. You can do this with the argument 'yerr' or the bar() function in pandas. Label each bar on the x axis with the appropriate column names. Label the y axis with 'Average Votes'. You can use your above defined functions."
   ]
  },
  {
   "cell_type": "code",
   "execution_count": 27,
   "metadata": {},
   "outputs": [
    {
     "data": {
      "text/plain": [
       "Text(0,0.5,'Average Votes')"
      ]
     },
     "execution_count": 27,
     "metadata": {},
     "output_type": "execute_result"
    },
    {
     "data": {
      "image/png": "[encoded data removed]",
      "text/plain": [
       "<Figure size 432x288 with 1 Axes>"
      ]
     },
     "metadata": {},
     "output_type": "display_data"
    }
   ],
   "source": [
    "x=averageVotes('bush-gore-results-fl_demo.csv')\n",
    "barlabels = ['brow','harr','hage','buch','mcre','phil','moor']\n",
    "barvals = [x[0],x[1],x[2],x[3],x[4],x[5],x[6]]\n",
    "sterr=stderrVotes('bush-gore-results-fl_demo.csv')\n",
    " \n",
    "plt.bar(barlabels, barvals) \n",
    "plt.errorbar(barlabels,barvals,yerr=sterr, fmt='none',capsize=10)\n",
    "plt.ylabel('Average Votes')"
   ]
  },
  {
   "cell_type": "markdown",
   "metadata": {
    "deletable": false,
    "editable": false,
    "nbgrader": {
     "grade": false,
     "locked": true,
     "solution": false
    }
   },
   "source": [
    "## Q5: Box Plots (3 pts)"
   ]
  },
  {
   "cell_type": "markdown",
   "metadata": {
    "deletable": false,
    "editable": false,
    "nbgrader": {
     "grade": false,
     "locked": true,
     "solution": false
    }
   },
   "source": [
    "(a) Consider the 'bush-gore-results-fl_demo.csv' data again. The columns 'whit', 'blac', and 'hisp' denote the respective population percentages of white, black, and hispanic in each county. \n",
    "\n",
    "Assume that the votes were distributed across the white, black, and hispanic population uniformly. Create a box plot showing the distribution of votes in each county from the white subpopulation obtained by each of the following candidates ('bush', 'gore', 'nade').\n",
    "\n",
    "The x axis of the plot should include the labels for the candidates, the y-axis should be labled 'Number of Votes', and the title of the plot should refer to the subpopulation. "
   ]
  },
  {
   "cell_type": "code",
   "execution_count": 46,
   "metadata": {},
   "outputs": [
    {
     "data": {
      "text/plain": [
       "Text(0.5,1,'White')"
      ]
     },
     "execution_count": 46,
     "metadata": {},
     "output_type": "execute_result"
    },
    {
     "data": {
      "image/png": "[encoded data removed]",
      "text/plain": [
       "<Figure size 432x288 with 1 Axes>"
      ]
     },
     "metadata": {},
     "output_type": "display_data"
    }
   ],
   "source": [
    "li=[]\n",
    "x=(data3['whit']*data3['bush'])/100\n",
    "y=(data3['whit']*data3['gore'])/100\n",
    "z=(data3['whit']*data3['nade'])/100\n",
    "li.append(x)\n",
    "li.append(y)\n",
    "li.append(z)\n",
    "\n",
    "fig, ax=plt.subplots()\n",
    "    \n",
    "ax.boxplot(li)  \n",
    "ax.set_xticklabels(['bush','gore','nade'])\n",
    "ax.set_ylabel('Number of Votes')\n",
    "ax.set_title('White')"
   ]
  },
  {
   "cell_type": "markdown",
   "metadata": {
    "deletable": false,
    "editable": false,
    "nbgrader": {
     "grade": false,
     "locked": true,
     "solution": false
    }
   },
   "source": [
    "(b) Repeat Q5a and plot the distribution of votes in each county from the black subpopulation."
   ]
  },
  {
   "cell_type": "code",
   "execution_count": 47,
   "metadata": {},
   "outputs": [
    {
     "data": {
      "text/plain": [
       "Text(0.5,1,'Black')"
      ]
     },
     "execution_count": 47,
     "metadata": {},
     "output_type": "execute_result"
    },
    {
     "data": {
      "image/png": "[encoded data removed]",
      "text/plain": [
       "<Figure size 432x288 with 1 Axes>"
      ]
     },
     "metadata": {},
     "output_type": "display_data"
    }
   ],
   "source": [
    "li=[]\n",
    "x=(data3['blac']*data3['bush'])/100\n",
    "y=(data3['blac']*data3['gore'])/100\n",
    "z=(data3['blac']*data3['nade'])/100\n",
    "li.append(x)\n",
    "li.append(y)\n",
    "li.append(z)\n",
    "\n",
    "fig, ax=plt.subplots()\n",
    "  \n",
    "ax.boxplot(li)  \n",
    "ax.set_xticklabels(['bush','gore','nade'])\n",
    "ax.set_ylabel('Number of Votes')\n",
    "ax.set_title('Black')"
   ]
  },
  {
   "cell_type": "markdown",
   "metadata": {
    "deletable": false,
    "editable": false,
    "nbgrader": {
     "grade": false,
     "locked": true,
     "solution": false
    }
   },
   "source": [
    "(c) Repeat Q5a and plot the distribution of votes in each county from the hispanic subpopulation."
   ]
  },
  {
   "cell_type": "code",
   "execution_count": 50,
   "metadata": {},
   "outputs": [
    {
     "data": {
      "text/plain": [
       "Text(0.5,1,'Hispanic')"
      ]
     },
     "execution_count": 50,
     "metadata": {},
     "output_type": "execute_result"
    },
    {
     "data": {
      "image/png": "[encoded data removed]",
      "text/plain": [
       "<Figure size 432x288 with 1 Axes>"
      ]
     },
     "metadata": {},
     "output_type": "display_data"
    }
   ],
   "source": [
    "li=[]\n",
    "x=(data3['hisp']*data3['bush'])/100\n",
    "y=(data3['hisp']*data3['gore'])/100\n",
    "z=(data3['hisp']*data3['nade'])/100\n",
    "li.append(x)\n",
    "li.append(y)\n",
    "li.append(z)\n",
    "\n",
    "fig, ax=plt.subplots()\n",
    "\n",
    "ax.boxplot(li)  \n",
    "ax.set_xticklabels(['bush','gore','nade'])\n",
    "ax.set_ylabel('Number of Votes')\n",
    "ax.set_title('Hispanic')"
   ]
  },
  {
   "cell_type": "code",
   "execution_count": null,
   "metadata": {
    "collapsed": true
   },
   "outputs": [],
   "source": []
  },
  {
   "cell_type": "code",
   "execution_count": null,
   "metadata": {
    "collapsed": true
   },
   "outputs": [],
   "source": []
  }
 ],
 "metadata": {
  "kernelspec": {
   "display_name": "Python 3 (ipykernel)",
   "language": "python",
   "name": "python3"
  },
  "language_info": {
   "codemirror_mode": {
    "name": "ipython",
    "version": 3
   },
   "file_extension": ".py",
   "mimetype": "text/x-python",
   "name": "python",
   "nbconvert_exporter": "python",
   "pygments_lexer": "ipython3",
   "version": "3.10.9"
  }
 },
 "nbformat": 4,
 "nbformat_minor": 2
}
