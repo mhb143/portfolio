{
 "cells": [
  {
   "cell_type": "markdown",
   "metadata": {
    "deletable": false,
    "editable": false,
    "nbgrader": {
     "grade": false,
     "locked": true,
     "solution": false
    }
   },
   "source": [
    "In this homework, the questions on plots will be graded manually, and all remaining questions will be auto-graded."
   ]
  },
  {
   "cell_type": "markdown",
   "metadata": {
    "deletable": false,
    "editable": false,
    "nbgrader": {
     "grade": false,
     "locked": true,
     "solution": false
    }
   },
   "source": [
    "## Q1: Regular Expressions (6 points)"
   ]
  },
  {
   "cell_type": "code",
   "execution_count": 2,
   "metadata": {
    "collapsed": true,
    "deletable": false,
    "editable": false,
    "nbgrader": {
     "grade": false,
     "locked": true,
     "solution": false
    }
   },
   "outputs": [],
   "source": [
    "# Import the 're' package in python for this question. \n",
    "import re"
   ]
  },
  {
   "cell_type": "markdown",
   "metadata": {
    "deletable": false,
    "editable": false,
    "nbgrader": {
     "grade": false,
     "locked": true,
     "solution": false
    }
   },
   "source": [
    "(a) Write a regular expression to check if an input string contains a sequence of digits (of any length)."
   ]
  },
  {
   "cell_type": "code",
   "execution_count": 3,
   "metadata": {},
   "outputs": [
    {
     "name": "stdout",
     "output_type": "stream",
     "text": [
      "True\n",
      "False\n"
     ]
    }
   ],
   "source": [
    "# checkDigitSequence(string) takes as input a string containing zero or more sequences \n",
    "# of digits and returns a boolean value which is True if the string contains at least \n",
    "# one sequence, and False if no such sequence is found. \n",
    "\n",
    "def checkDigitSequence(string):\n",
    "    return bool(re.search(r'\\d',string))\n",
    "    \n",
    "    \n",
    "    \n",
    "# Example Test Q1a\n",
    "print( checkDigitSequence('My number is 987654321 and my friend\\'s number is 123456789') )\n",
    "# output: True\n",
    "\n",
    "print( checkDigitSequence('Hello World!') )\n",
    "# output: False"
   ]
  },
  {
   "cell_type": "code",
   "execution_count": 4,
   "metadata": {
    "collapsed": true,
    "deletable": false,
    "editable": false,
    "nbgrader": {
     "grade": true,
     "grade_id": "Q1a:checkDigitSequence_0",
     "locked": true,
     "points": "1",
     "solution": false
    }
   },
   "outputs": [],
   "source": [
    "###\n",
    "### AUTOGRADER TEST - DO NOT REMOVE\n",
    "###\n"
   ]
  },
  {
   "cell_type": "code",
   "execution_count": 5,
   "metadata": {
    "collapsed": true,
    "deletable": false,
    "editable": false,
    "nbgrader": {
     "grade": true,
     "grade_id": "Q1a:checkDigitSequence_1",
     "locked": true,
     "points": "1",
     "solution": false
    }
   },
   "outputs": [],
   "source": [
    "###\n",
    "### AUTOGRADER TEST - DO NOT REMOVE\n",
    "###\n"
   ]
  },
  {
   "cell_type": "code",
   "execution_count": 6,
   "metadata": {
    "collapsed": true,
    "deletable": false,
    "editable": false,
    "nbgrader": {
     "grade": true,
     "grade_id": "Q1a:checkDigitSequence_2",
     "locked": true,
     "points": "1",
     "solution": false
    }
   },
   "outputs": [],
   "source": [
    "###\n",
    "### AUTOGRADER TEST - DO NOT REMOVE\n",
    "###\n"
   ]
  },
  {
   "cell_type": "markdown",
   "metadata": {
    "deletable": false,
    "editable": false,
    "nbgrader": {
     "grade": false,
     "locked": true,
     "solution": false
    }
   },
   "source": [
    "(b) Write a regular expression to find all sequences of digits (of any length) in an input string."
   ]
  },
  {
   "cell_type": "code",
   "execution_count": 7,
   "metadata": {},
   "outputs": [
    {
     "name": "stdout",
     "output_type": "stream",
     "text": [
      "['123456789', '987654321']\n",
      "None\n"
     ]
    }
   ],
   "source": [
    "# findDigitSequence(string) takes as input a string containing zero or more sequences \n",
    "# of digits and returns a list of all sequences in the string. The output list must \n",
    "# be sorted in the increasing order. You can use the 'sorted' function in python for \n",
    "# sorting the list. If no sequence is present, then the function should return 'None'. \n",
    "\n",
    "def findDigitSequence(string):\n",
    "    x=sorted(re.findall(r'[0-9]+',string))\n",
    "    if x==[]:\n",
    "        return None\n",
    "    return x\n",
    "    \n",
    "\n",
    "# Example Test Q1b\n",
    "print( findDigitSequence(\"My number is 987654321 and my friend\\'s number is 123456789.\") )\n",
    "# output ['123456789', '987654321']\n",
    "\n",
    "print( findDigitSequence(\"Hello World!\") )\n",
    "# output None"
   ]
  },
  {
   "cell_type": "code",
   "execution_count": 8,
   "metadata": {
    "collapsed": true,
    "deletable": false,
    "editable": false,
    "nbgrader": {
     "grade": true,
     "grade_id": "Q1b:findDigitSequence_0",
     "locked": true,
     "points": "1",
     "solution": false
    }
   },
   "outputs": [],
   "source": [
    "###\n",
    "### AUTOGRADER TEST - DO NOT REMOVE\n",
    "###\n"
   ]
  },
  {
   "cell_type": "code",
   "execution_count": 9,
   "metadata": {
    "collapsed": true,
    "deletable": false,
    "editable": false,
    "nbgrader": {
     "grade": true,
     "grade_id": "Q1b:findDigitSequence_1",
     "locked": true,
     "points": "1",
     "solution": false
    }
   },
   "outputs": [],
   "source": [
    "###\n",
    "### AUTOGRADER TEST - DO NOT REMOVE\n",
    "###\n"
   ]
  },
  {
   "cell_type": "code",
   "execution_count": 10,
   "metadata": {
    "collapsed": true,
    "deletable": false,
    "editable": false,
    "nbgrader": {
     "grade": true,
     "grade_id": "Q1b:findDigitSequence_2",
     "locked": true,
     "points": "1",
     "solution": false
    }
   },
   "outputs": [],
   "source": [
    "###\n",
    "### AUTOGRADER TEST - DO NOT REMOVE\n",
    "###\n"
   ]
  },
  {
   "cell_type": "markdown",
   "metadata": {
    "deletable": false,
    "editable": false,
    "nbgrader": {
     "grade": false,
     "locked": true,
     "solution": false
    }
   },
   "source": [
    "(c) Write a regular expression to find \"proper case words\" in an input string. Proper case words have their first letter capitalized and the remaining characters are lower case alpha-numeric characters. (Assume words are separated by a whitespace). "
   ]
  },
  {
   "cell_type": "code",
   "execution_count": 11,
   "metadata": {},
   "outputs": [
    {
     "name": "stdout",
     "output_type": "stream",
     "text": [
      "['Data', 'Introduction', 'Science', 'We']\n",
      "None\n"
     ]
    }
   ],
   "source": [
    "# findProperCase(string) takes an input string, and returns a list of all words in the \n",
    "# string that have their first letter capitalized followed by any number of lower case alpha-numeric \n",
    "# characters. The output list must be sorted in the increasing lexicographic order. \n",
    "# You can use the 'sorted' function in python for sorting the list. If no such word \n",
    "# is present in the given string, then the function should return 'None'.\n",
    "\n",
    "def findProperCase(string):\n",
    "    x=sorted(re.findall(r'[A-Z][a-z]+',string))\n",
    "    if x==[]:\n",
    "        return None\n",
    "    return x\n",
    "    \n",
    "# Example Test Q1c\n",
    "print( findProperCase('We are studying the course Introduction to Data Science.') )\n",
    "# output: ['Data', 'Introduction', 'Science', 'We']\n",
    "\n",
    "print( findProperCase('today is our fourth lab assignment') )\n",
    "# output: None"
   ]
  },
  {
   "cell_type": "code",
   "execution_count": 12,
   "metadata": {
    "collapsed": true,
    "deletable": false,
    "editable": false,
    "nbgrader": {
     "grade": true,
     "grade_id": "Q1c:findProperCase_0",
     "locked": true,
     "points": "1",
     "solution": false
    }
   },
   "outputs": [],
   "source": [
    "###\n",
    "### AUTOGRADER TEST - DO NOT REMOVE\n",
    "###\n"
   ]
  },
  {
   "cell_type": "code",
   "execution_count": 13,
   "metadata": {
    "collapsed": true,
    "deletable": false,
    "editable": false,
    "nbgrader": {
     "grade": true,
     "grade_id": "Q1c:findProperCase_1",
     "locked": true,
     "points": "1",
     "solution": false
    }
   },
   "outputs": [],
   "source": [
    "###\n",
    "### AUTOGRADER TEST - DO NOT REMOVE\n",
    "###\n"
   ]
  },
  {
   "cell_type": "code",
   "execution_count": 14,
   "metadata": {
    "collapsed": true,
    "deletable": false,
    "editable": false,
    "nbgrader": {
     "grade": true,
     "grade_id": "Q1c:findProperCase_2",
     "locked": true,
     "points": "1",
     "solution": false
    }
   },
   "outputs": [],
   "source": [
    "###\n",
    "### AUTOGRADER TEST - DO NOT REMOVE\n",
    "###\n"
   ]
  },
  {
   "cell_type": "markdown",
   "metadata": {
    "deletable": false,
    "editable": false,
    "nbgrader": {
     "grade": false,
     "locked": true,
     "solution": false
    }
   },
   "source": [
    "(d) Define a \"proper case word-number\" sequence as follows: a proper case word (as defined above) followed by a whitespace character and then sequence of 1 or more digits (e.g., January 15).\n",
    "\n",
    "Write a regular expression to check if an input string contains a \"proper case word number\" sequence."
   ]
  },
  {
   "cell_type": "code",
   "execution_count": 15,
   "metadata": {},
   "outputs": [
    {
     "name": "stdout",
     "output_type": "stream",
     "text": [
      "True\n",
      "False\n"
     ]
    }
   ],
   "source": [
    "# checkProperCaseWordNumSeq(string) takes an input string and returns a boolean value \n",
    "# which is True if the string contains a proper case word-number sequence as defined \n",
    "# above and False if no such sequence is found. \n",
    "\n",
    "def checkProperCaseWordNumSeq(string):\n",
    "    return bool(re.search(r'[A-Z][a-z]+\\s\\d+',string))\n",
    "    \n",
    "    \n",
    "    \n",
    "# Example Test Q1d\n",
    "print( checkProperCaseWordNumSeq('I was born on January 15') )\n",
    "# output: True\n",
    "    \n",
    "print( checkProperCaseWordNumSeq('I was born on January fifteen') )\n",
    "#output: False"
   ]
  },
  {
   "cell_type": "code",
   "execution_count": 16,
   "metadata": {
    "collapsed": true,
    "deletable": false,
    "editable": false,
    "nbgrader": {
     "grade": true,
     "grade_id": "Q1d:checkWordNumSeq_0",
     "locked": true,
     "points": "1",
     "solution": false
    }
   },
   "outputs": [],
   "source": [
    "###\n",
    "### AUTOGRADER TEST - DO NOT REMOVE\n",
    "###\n"
   ]
  },
  {
   "cell_type": "code",
   "execution_count": 17,
   "metadata": {
    "collapsed": true,
    "deletable": false,
    "editable": false,
    "nbgrader": {
     "grade": true,
     "grade_id": "Q1d:checkWordNumSeq_1",
     "locked": true,
     "points": "1",
     "solution": false
    }
   },
   "outputs": [],
   "source": [
    "###\n",
    "### AUTOGRADER TEST - DO NOT REMOVE\n",
    "###\n"
   ]
  },
  {
   "cell_type": "code",
   "execution_count": 18,
   "metadata": {
    "collapsed": true,
    "deletable": false,
    "editable": false,
    "nbgrader": {
     "grade": true,
     "grade_id": "Q1d:checkWordNumSeq_2",
     "locked": true,
     "points": "1",
     "solution": false
    }
   },
   "outputs": [],
   "source": [
    "###\n",
    "### AUTOGRADER TEST - DO NOT REMOVE\n",
    "###\n"
   ]
  },
  {
   "cell_type": "markdown",
   "metadata": {
    "deletable": false,
    "editable": false,
    "nbgrader": {
     "grade": false,
     "locked": true,
     "solution": false
    }
   },
   "source": [
    "(e) Find all words that correspond to months of the year (e.g., 'January', 'February', etc) in an input string and replace them with their numerical representation (e.g., 01, 02, etc). Return the resulting output string. \n",
    "\n",
    "Note: If the input does not contain any months, then the output string will be the same as the input string."
   ]
  },
  {
   "cell_type": "code",
   "execution_count": 19,
   "metadata": {},
   "outputs": [
    {
     "name": "stdout",
     "output_type": "stream",
     "text": [
      "I was born on 06 24 and my sister was born on 05 17\n",
      "This is a string without a month in it\n"
     ]
    }
   ],
   "source": [
    "# transformMonths(string) takes an input string, finds all the proper case references to \n",
    "# months of the year, tranforms them to a numerical representation and returns the result.\n",
    "\n",
    "def transformMonths(string):\n",
    "    if re.search(r'[A-Z][a-z]+\\s\\d+',string):  \n",
    "        string=string.replace('June','06') \n",
    "        string=string.replace('May','05')\n",
    "        string=string.replace('January','01') \n",
    "        string=string.replace('February','02')\n",
    "        string=string.replace('March','03') \n",
    "        string=string.replace('April','04')\n",
    "        string=string.replace('July','07') \n",
    "        string=string.replace('August','08')\n",
    "        string=string.replace('September','09') \n",
    "        string=string.replace('October','10')\n",
    "        string=string.replace('November','11') \n",
    "        string=string.replace('December','12')\n",
    "        return string\n",
    "    else:\n",
    "        return string\n",
    "    \n",
    "# Example Test Q1e\n",
    "print( transformMonths('I was born on June 24 and my sister was born on May 17') )\n",
    "# output: 'I was born on 06 24 and my sister was born on 05 17'\n",
    "\n",
    "print( transformMonths('This is a string without a month in it') )\n",
    "# output: 'This is a string without a month in it'"
   ]
  },
  {
   "cell_type": "code",
   "execution_count": 20,
   "metadata": {
    "collapsed": true,
    "deletable": false,
    "editable": false,
    "nbgrader": {
     "grade": true,
     "grade_id": "Q1e:transformMonths_0",
     "locked": true,
     "points": "1",
     "solution": false
    }
   },
   "outputs": [],
   "source": [
    "###\n",
    "### AUTOGRADER TEST - DO NOT REMOVE\n",
    "###\n"
   ]
  },
  {
   "cell_type": "code",
   "execution_count": 21,
   "metadata": {
    "collapsed": true,
    "deletable": false,
    "editable": false,
    "nbgrader": {
     "grade": true,
     "grade_id": "Q1e:transformMonths_1",
     "locked": true,
     "points": "1",
     "solution": false
    }
   },
   "outputs": [],
   "source": [
    "###\n",
    "### AUTOGRADER TEST - DO NOT REMOVE\n",
    "###\n"
   ]
  },
  {
   "cell_type": "code",
   "execution_count": 22,
   "metadata": {
    "collapsed": true,
    "deletable": false,
    "editable": false,
    "nbgrader": {
     "grade": true,
     "grade_id": "Q1e:transformMonths_2",
     "locked": true,
     "points": "1",
     "solution": false
    }
   },
   "outputs": [],
   "source": [
    "###\n",
    "### AUTOGRADER TEST - DO NOT REMOVE\n",
    "###\n"
   ]
  },
  {
   "cell_type": "markdown",
   "metadata": {
    "deletable": false,
    "editable": false,
    "nbgrader": {
     "grade": false,
     "locked": true,
     "solution": false
    }
   },
   "source": [
    "(f) Given an input file, determine how many lines in the file contain a clause (delinated by two commas followed by a space, i.e. ', '). Note the full clause must be contained on a single line to be considered a match. If the clause is split across two lines, do not count it."
   ]
  },
  {
   "cell_type": "code",
   "execution_count": 23,
   "metadata": {},
   "outputs": [
    {
     "name": "stdout",
     "output_type": "stream",
     "text": [
      "18\n"
     ]
    }
   ],
   "source": [
    "# countClauses(filename) takes an input filename, and returns the number of lines \n",
    "# containing a clause separated by commas.\n",
    "\n",
    "def countClauses(filename):\n",
    "    file=open(filename)\n",
    "    read=file.read()\n",
    "    count=0\n",
    "    \n",
    "    y=re.findall(r',[\\s\\W].+,',read)\n",
    "    print(len(y))\n",
    "    \n",
    "    file.close()\n",
    "    #return count\n",
    "\n",
    "    \n",
    "# Example Test Q1f\n",
    "countClauses('raven-poem_demo.txt')\n",
    "# output: 8"
   ]
  },
  {
   "cell_type": "code",
   "execution_count": 24,
   "metadata": {
    "collapsed": true,
    "deletable": false,
    "editable": false,
    "nbgrader": {
     "grade": true,
     "grade_id": "Q1f:countClauses0",
     "locked": true,
     "points": "1",
     "solution": false
    }
   },
   "outputs": [],
   "source": [
    "###\n",
    "### AUTOGRADER TEST - DO NOT REMOVE\n",
    "###\n"
   ]
  },
  {
   "cell_type": "code",
   "execution_count": 25,
   "metadata": {
    "collapsed": true,
    "deletable": false,
    "editable": false,
    "nbgrader": {
     "grade": true,
     "grade_id": "Q1f:countClauses1",
     "locked": true,
     "points": "2",
     "solution": false
    }
   },
   "outputs": [],
   "source": [
    "###\n",
    "### AUTOGRADER TEST - DO NOT REMOVE\n",
    "###\n"
   ]
  },
  {
   "cell_type": "markdown",
   "metadata": {
    "deletable": false,
    "editable": false,
    "nbgrader": {
     "grade": false,
     "locked": true,
     "solution": false
    }
   },
   "source": [
    "## Q2: Sampling (4 points)"
   ]
  },
  {
   "cell_type": "markdown",
   "metadata": {
    "deletable": false,
    "editable": false,
    "nbgrader": {
     "grade": false,
     "locked": true,
     "solution": false
    }
   },
   "source": [
    "Consider the dataset 'bush-gore-results-fl_demo.csv'. Construct 20 different samples of counties, by randomly sampling the 10 out of the 50 rows. For each sample, calculate the total votes received by each specified candidate, and return the average across the 20 samples for each candidate. \n",
    "\n",
    "Unless specified otherwise, use the sample() function in pandas and set the 'random_state' parameter to the ith sample number to faciliate testing, i.e., for the fist sample use random_state=0, for the second sample use random_state=1, etc.\n"
   ]
  },
  {
   "cell_type": "markdown",
   "metadata": {
    "deletable": false,
    "editable": false,
    "nbgrader": {
     "grade": false,
     "locked": true,
     "solution": false
    }
   },
   "source": [
    "(a) Using sampling with replacement, create samples for following candidates: ['brow', 'nade', 'harr', 'hage', 'buch', 'mcre', 'phil', 'moor'], and return the mean of the total votes for each candidate."
   ]
  },
  {
   "cell_type": "code",
   "execution_count": 26,
   "metadata": {
    "collapsed": true,
    "deletable": false,
    "editable": false,
    "nbgrader": {
     "grade": true,
     "grade_id": "Q2a:sampleWithReplacement0",
     "locked": true,
     "points": "1",
     "solution": false
    }
   },
   "outputs": [],
   "source": [
    "###\n",
    "### AUTOGRADER TEST - DO NOT REMOVE\n",
    "###\n"
   ]
  },
  {
   "cell_type": "code",
   "execution_count": 66,
   "metadata": {},
   "outputs": [
    {
     "data": {
      "text/plain": [
       "[3593.55, 16358.95, 1085.7, 1310.9, 3844.9, 1111.2, 1221.55, 1281.8]"
      ]
     },
     "execution_count": 66,
     "metadata": {},
     "output_type": "execute_result"
    }
   ],
   "source": [
    "# sampleWithReplacement(filename) takes as input the filename, samples with replacement \n",
    "# 20 samples of size 10, and returns the mean of the total votes for each candidate as  \n",
    "# a list, in the order of the candidates given above.\n",
    "import pandas as pd\n",
    "\n",
    "def sampleWithReplacement(filename):\n",
    "    data=pd.read_csv(filename)\n",
    "    #data=data.iloc[:,13:]\n",
    "    li=['brow', 'nade', 'harr', 'hage', 'buch', 'mcre', 'phil', 'moor']\n",
    "    data=data[li]\n",
    "    means=[]\n",
    "    random_state=0\n",
    "    for cand in li:\n",
    "        samples=[]\n",
    "        for each in range(20):\n",
    "            sample=data[cand].sample(n=10, replace=True, random_state=random_state+each)\n",
    "            samples.append(sample.sum())\n",
    "        means.append(sum(samples)/20)\n",
    "    return means\n",
    "    \n",
    "    \n",
    "# Example Test Q2a\n",
    "sampleWithReplacement('bush-gore-results-fl_demo.csv')\n",
    "# output:  [3593.55, 16358.95, 1085.7, 1310.9, 3844.9, 1111.2, 1221.55, 1281.8 ]"
   ]
  },
  {
   "cell_type": "code",
   "execution_count": 28,
   "metadata": {
    "collapsed": true,
    "deletable": false,
    "editable": false,
    "nbgrader": {
     "grade": true,
     "grade_id": "Q2a:sampleWithReplacement1",
     "locked": true,
     "points": "2",
     "solution": false
    }
   },
   "outputs": [],
   "source": [
    "###\n",
    "### AUTOGRADER TEST - DO NOT REMOVE\n",
    "###\n"
   ]
  },
  {
   "cell_type": "markdown",
   "metadata": {
    "deletable": false,
    "editable": false,
    "nbgrader": {
     "grade": false,
     "locked": true,
     "solution": false
    }
   },
   "source": [
    "(b) Using sampling with replacement, create samples for following candidates: ['bush', 'gore'], and show a boxplot with candidates on x axis and the total number of votes (for the different samples) on y-axis. For this part, consider the dataset in file 'bush-gore-results-fl_demo.csv'."
   ]
  },
  {
   "cell_type": "code",
   "execution_count": 29,
   "metadata": {},
   "outputs": [
    {
     "data": {
      "text/plain": [
       "Text(0,0.5,'Number of Votes')"
      ]
     },
     "execution_count": 29,
     "metadata": {},
     "output_type": "execute_result"
    },
    {
     "data": {
      "image/png": "[encoded data removed]",
      "text/plain": [
       "<Figure size 432x288 with 1 Axes>"
      ]
     },
     "metadata": {},
     "output_type": "display_data"
    }
   ],
   "source": [
    "import matplotlib.pyplot as plt\n",
    "import numpy as np\n",
    "\n",
    "data=pd.read_csv('bush-gore-results-fl_demo.csv')\n",
    "data1=data[['bush','gore']]\n",
    "random_state=0\n",
    "votes=[]\n",
    "for cand in data1.keys():\n",
    "    samples=[]\n",
    "    #print(cand)\n",
    "    for each in range(20):\n",
    "        sample=data1[cand].sample(10, replace=True, random_state=random_state+each)\n",
    "        #print(sample)\n",
    "        samples.append(sample.sum())\n",
    "        #print(sum(samples), cand)\n",
    "        #print(samples)\n",
    "    votes.append(samples)\n",
    "\n",
    "fig, ax=plt.subplots()\n",
    "ax.boxplot(votes)\n",
    "\n",
    "ax.set_xticklabels(['bush','gore'])\n",
    "ax.set_ylabel('Number of Votes')\n"
   ]
  },
  {
   "cell_type": "markdown",
   "metadata": {
    "deletable": false,
    "editable": false,
    "nbgrader": {
     "grade": false,
     "locked": true,
     "solution": false
    }
   },
   "source": [
    "(c) Now use sampling without replacement to create samples for following candidates: ['brow', 'nade', 'harr', 'hage', 'buch', 'mcre', 'phil', 'moor'], and return the mean of the total votes for each candidate."
   ]
  },
  {
   "cell_type": "code",
   "execution_count": 30,
   "metadata": {},
   "outputs": [
    {
     "data": {
      "text/plain": [
       "[3346.85, 15555.7, 1088.35, 1352.95, 3277.45, 1066.0, 1175.75, 1273.1]"
      ]
     },
     "execution_count": 30,
     "metadata": {},
     "output_type": "execute_result"
    }
   ],
   "source": [
    "# sampleWithoutReplacement(filename) takes as input the filename, samples without \n",
    "# replacement 20 samples of size 10, and returns the mean of the total votes for each \n",
    "# candidate as a list, in the order of the candidates given above.\n",
    "\n",
    "def sampleWithoutReplacement(filename):\n",
    "    import pandas as pd\n",
    "\n",
    "    data=pd.read_csv(filename)\n",
    "    data=data.iloc[:,13:]\n",
    "    means=[]\n",
    "    random_state=0\n",
    "    for cand in data.keys():\n",
    "        samples=[]\n",
    "        for each in range(20):\n",
    "            sample=data[cand].sample(10, random_state=random_state+each)\n",
    "            #print(sample, 'sample')\n",
    "            samples.append(sample.sum())\n",
    "        #print(sum(samples),'samples')\n",
    "        means.append(sum(samples)/len(samples))\n",
    "    return means\n",
    "    \n",
    "\n",
    "# Example Test Q2c\n",
    "sampleWithoutReplacement('bush-gore-results-fl_demo.csv')\n",
    "# output: [3346.85, 15555.7, 1088.35, 1352.95, 3277.45, 1066.0, 1175.75, 1273.1]"
   ]
  },
  {
   "cell_type": "code",
   "execution_count": 31,
   "metadata": {
    "collapsed": true,
    "deletable": false,
    "editable": false,
    "nbgrader": {
     "grade": true,
     "grade_id": "Q2b:sampleWithoutReplacement0",
     "locked": true,
     "points": "1",
     "solution": false
    }
   },
   "outputs": [],
   "source": [
    "###\n",
    "### AUTOGRADER TEST - DO NOT REMOVE\n",
    "###\n"
   ]
  },
  {
   "cell_type": "code",
   "execution_count": 32,
   "metadata": {
    "collapsed": true,
    "deletable": false,
    "editable": false,
    "nbgrader": {
     "grade": true,
     "grade_id": "Q2b:sampleWithoutReplacement1",
     "locked": true,
     "points": "2",
     "solution": false
    }
   },
   "outputs": [],
   "source": [
    "###\n",
    "### AUTOGRADER TEST - DO NOT REMOVE\n",
    "###\n"
   ]
  },
  {
   "cell_type": "markdown",
   "metadata": {
    "deletable": false,
    "editable": false,
    "nbgrader": {
     "grade": false,
     "locked": true,
     "solution": false
    }
   },
   "source": [
    "(d) Using sampling without replacement, create samples for following candidates: ['bush', 'gore'], and show a boxplot with the candidates on x axis and the total number of votes (for the different samples) on y-axis. For this part, consider the dataset in file 'bush-gore-results-fl_demo.csv'."
   ]
  },
  {
   "cell_type": "code",
   "execution_count": 33,
   "metadata": {},
   "outputs": [
    {
     "data": {
      "text/plain": [
       "Text(0,0.5,'Number of Votes')"
      ]
     },
     "execution_count": 33,
     "metadata": {},
     "output_type": "execute_result"
    },
    {
     "data": {
      "image/png": "[encoded data removed]",
      "text/plain": [
       "<Figure size 432x288 with 1 Axes>"
      ]
     },
     "metadata": {},
     "output_type": "display_data"
    }
   ],
   "source": [
    "import matplotlib.pyplot as plt\n",
    "import numpy as np\n",
    "\n",
    "data=pd.read_csv('bush-gore-results-fl_demo.csv')\n",
    "data1=data[['bush','gore']]\n",
    "random_state=0\n",
    "votes=[]\n",
    "for cand in data1.keys():\n",
    "    samples=[]\n",
    "    #print(cand)\n",
    "    for each in range(20):\n",
    "        sample=data1[cand].sample(10, random_state=random_state+each)\n",
    "        #print(sample)\n",
    "        samples.append(sample.sum())\n",
    "        #print(sum(samples), cand)\n",
    "        #print(samples)\n",
    "    votes.append(samples)\n",
    "\n",
    "fig, ax=plt.subplots()\n",
    "ax.boxplot(votes)\n",
    "\n",
    "ax.set_xticklabels(['bush','gore'])\n",
    "ax.set_ylabel('Number of Votes')"
   ]
  },
  {
   "cell_type": "markdown",
   "metadata": {
    "deletable": false,
    "editable": false,
    "nbgrader": {
     "grade": false,
     "locked": true,
     "solution": false
    }
   },
   "source": [
    "## Q3: Distance Measures (4 points)"
   ]
  },
  {
   "cell_type": "markdown",
   "metadata": {
    "deletable": false,
    "editable": false,
    "nbgrader": {
     "grade": false,
     "locked": true,
     "solution": false
    }
   },
   "source": [
    "(a) Find the distance between the county that Bush won by the largest margin and the county that Gore won by the largest margin. (Just use basic Euclidean distance between the latitude (lat) and longitude (lon) values for the counties.)"
   ]
  },
  {
   "cell_type": "code",
   "execution_count": 63,
   "metadata": {},
   "outputs": [
    {
     "data": {
      "text/plain": [
       "4.341658669218629"
      ]
     },
     "execution_count": 63,
     "metadata": {},
     "output_type": "execute_result"
    }
   ],
   "source": [
    "# findLatLonDistance(filename) takes an input the filename, and returns the distance \n",
    "# between the county that Bush won by the largest margin and the county that Gore\n",
    "# won by the largest margin.\n",
    "\n",
    "from sklearn import preprocessing\n",
    "from sklearn.metrics.pairwise import euclidean_distances\n",
    "\n",
    "def findLatLonDistance(filename):\n",
    "    data=pd.read_csv(filename)\n",
    "    margin=data['bush']-data['gore']\n",
    "    #print(data.loc('bush'))\n",
    "#     print(max(margin))\n",
    "    lat_bush=data['lat'].loc[margin.idxmax()]\n",
    "    lat_gore=data['lat'].loc[margin.idxmin()]\n",
    "    lon_bush=data['lon'].loc[margin.idxmax()]\n",
    "    lon_gore=data['lon'].loc[margin.idxmin()]\n",
    "    \n",
    "    dist = euclidean_distances([[lat_bush,lon_bush],[lat_gore,lon_gore]])\n",
    "    return dist[0][1]\n",
    "    \n",
    "    \n",
    "    \n",
    "# Example Test Q3a\n",
    "findLatLonDistance('bush-gore-results-fl_demo.csv')\n",
    "# output: 4.341658669218476"
   ]
  },
  {
   "cell_type": "code",
   "execution_count": null,
   "metadata": {
    "collapsed": true,
    "deletable": false,
    "editable": false,
    "nbgrader": {
     "grade": true,
     "grade_id": "Q3a:findLatLonDistance0",
     "locked": true,
     "points": "1",
     "solution": false
    }
   },
   "outputs": [],
   "source": [
    "###\n",
    "### AUTOGRADER TEST - DO NOT REMOVE\n",
    "###\n"
   ]
  },
  {
   "cell_type": "code",
   "execution_count": null,
   "metadata": {
    "collapsed": true,
    "deletable": false,
    "editable": false,
    "nbgrader": {
     "grade": true,
     "grade_id": "Q3a:findLatLonDistance1",
     "locked": true,
     "points": "2",
     "solution": false
    }
   },
   "outputs": [],
   "source": [
    "###\n",
    "### AUTOGRADER TEST - DO NOT REMOVE\n",
    "###\n"
   ]
  },
  {
   "cell_type": "markdown",
   "metadata": {
    "deletable": false,
    "editable": false,
    "nbgrader": {
     "grade": false,
     "locked": true,
     "solution": false
    }
   },
   "source": [
    "(b) Consider the candidates: ['bush', 'gore']. Represent each candidate as a vector with entries corresponding to the number of votes the candidate obtained in each county. Calculate the pairwise Euclidean distance between the two candidate vectors. "
   ]
  },
  {
   "cell_type": "code",
   "execution_count": 37,
   "metadata": {},
   "outputs": [
    {
     "data": {
      "text/plain": [
       "264972.26245967706"
      ]
     },
     "execution_count": 37,
     "metadata": {},
     "output_type": "execute_result"
    }
   ],
   "source": [
    "# findVoteDistance(filename) takes an input the filename, and returns the distance \n",
    "# between the votes that Bush received and the votes that Gore received.\n",
    "\n",
    "from sklearn import preprocessing\n",
    "from sklearn.metrics.pairwise import euclidean_distances\n",
    "\n",
    "def findVoteDistance(filename):\n",
    "    data=pd.read_csv(filename)\n",
    "    gorevotes=list(data['gore'])\n",
    "    bushvotes=list(data['bush'])\n",
    "    dists = euclidean_distances([bushvotes,gorevotes])\n",
    "    #print(dists)\n",
    "    return dists[0][1]\n",
    "\n",
    "# Example Test Q3b\n",
    "findVoteDistance('bush-gore-results-fl_demo.csv')\n",
    "# output: 264972.26245967706"
   ]
  },
  {
   "cell_type": "code",
   "execution_count": null,
   "metadata": {
    "collapsed": true,
    "deletable": false,
    "editable": false,
    "nbgrader": {
     "grade": true,
     "grade_id": "Q3b:findVoteDistance0",
     "locked": true,
     "points": "1",
     "solution": false
    }
   },
   "outputs": [],
   "source": [
    "###\n",
    "### AUTOGRADER TEST - DO NOT REMOVE\n",
    "###\n"
   ]
  },
  {
   "cell_type": "code",
   "execution_count": null,
   "metadata": {
    "collapsed": true,
    "deletable": false,
    "editable": false,
    "nbgrader": {
     "grade": true,
     "grade_id": "Q3b:findVoteDistance1",
     "locked": true,
     "points": "2",
     "solution": false
    }
   },
   "outputs": [],
   "source": [
    "###\n",
    "### AUTOGRADER TEST - DO NOT REMOVE\n",
    "###\n"
   ]
  },
  {
   "cell_type": "markdown",
   "metadata": {
    "deletable": false,
    "editable": false,
    "nbgrader": {
     "grade": false,
     "locked": true,
     "solution": false
    }
   },
   "source": [
    "(c) Consider the candidates: ['bush', 'gore', 'nade']. Represent each candidate as a vector with entries corresponding to the number of votes the candidate obtained in each county. Calculate the pairwise distances between the candidate vectors and plot the resulting matrix as a heatmap. Annotate the axes of the heatmap with the column names of the candidates. For this part, consider the dataset in file 'bush-gore-results-fl_demo.csv'."
   ]
  },
  {
   "cell_type": "code",
   "execution_count": 46,
   "metadata": {},
   "outputs": [
    {
     "data": {
      "text/plain": [
       "([<matplotlib.axis.XTick at 0x7fce160ba860>,\n",
       "  <matplotlib.axis.XTick at 0x7fce160ba198>,\n",
       "  <matplotlib.axis.XTick at 0x7fce160bdac8>],\n",
       " <a list of 3 Text xticklabel objects>)"
      ]
     },
     "execution_count": 46,
     "metadata": {},
     "output_type": "execute_result"
    },
    {
     "data": {
      "image/png": "[encoded data removed]",
      "text/plain": [
       "<Figure size 432x288 with 1 Axes>"
      ]
     },
     "metadata": {},
     "output_type": "display_data"
    }
   ],
   "source": [
    "data=pd.read_csv('bush-gore-results-fl_demo.csv')\n",
    "gorevotes=list(data['gore'])\n",
    "bushvotes=list(data['bush'])\n",
    "nadevotes=list(data['nade'])\n",
    "dists = euclidean_distances([bushvotes,gorevotes,nadevotes])\n",
    "# len(dists)\n",
    "plt.imshow(dists)\n",
    "plt.yticks(range(len(dists)),['bush','gore','nade'])\n",
    "plt.xticks(range(len(dists)),['bush','gore','nade'])"
   ]
  },
  {
   "cell_type": "markdown",
   "metadata": {
    "deletable": false,
    "editable": false,
    "nbgrader": {
     "grade": false,
     "locked": true,
     "solution": false
    }
   },
   "source": [
    "(c) Now, create the same type of distance heatmap for the following set of candidates: ['brow', 'harr', 'hage', 'buch', 'mcre', 'phil', 'moor']. For this part, consider the dataset in file 'bush-gore-results-fl_demo.csv'."
   ]
  },
  {
   "cell_type": "code",
   "execution_count": 47,
   "metadata": {},
   "outputs": [
    {
     "data": {
      "text/plain": [
       "<matplotlib.image.AxesImage at 0x7fce161d9d68>"
      ]
     },
     "execution_count": 47,
     "metadata": {},
     "output_type": "execute_result"
    },
    {
     "data": {
      "image/png": "[encoded data removed]",
      "text/plain": [
       "<Figure size 432x288 with 1 Axes>"
      ]
     },
     "metadata": {},
     "output_type": "display_data"
    }
   ],
   "source": [
    "data=pd.read_csv('bush-gore-results-fl_demo.csv')\n",
    "browvotes=list(data['brow'])\n",
    "harrvotes=list(data['harr'])\n",
    "hagevotes=list(data['hage'])\n",
    "buchvotes=list(data['buch'])\n",
    "mcrevotes=list(data['mcre'])\n",
    "philvotes=list(data['phil'])\n",
    "moorvotes=list(data['moor'])\n",
    "\n",
    "dists = euclidean_distances([browvotes,harrvotes,hagevotes,buchvotes,mcrevotes,philvotes,moorvotes])\n",
    "plt.yticks(range(len(dists)),['brow','harr','hage','buch','mcre','phil','moor'])\n",
    "plt.xticks(range(len(dists)),['brow','harr','hage','buch','mcre','phil','moor'])\n",
    "plt.imshow(dists)"
   ]
  },
  {
   "cell_type": "code",
   "execution_count": null,
   "metadata": {
    "collapsed": true
   },
   "outputs": [],
   "source": []
  }
 ],
 "metadata": {
  "kernelspec": {
   "display_name": "Python 3 (ipykernel)",
   "language": "python",
   "name": "python3"
  },
  "language_info": {
   "codemirror_mode": {
    "name": "ipython",
    "version": 3
   },
   "file_extension": ".py",
   "mimetype": "text/x-python",
   "name": "python",
   "nbconvert_exporter": "python",
   "pygments_lexer": "ipython3",
   "version": "3.10.9"
  }
 },
 "nbformat": 4,
 "nbformat_minor": 2
}
